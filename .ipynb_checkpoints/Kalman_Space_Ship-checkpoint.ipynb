{
 "cells": [
  {
   "cell_type": "code",
   "execution_count": 1,
   "metadata": {},
   "outputs": [],
   "source": [
    "import numpy as np\n",
    "import matplotlib.pyplot as plt\n",
    "\n",
    "try:\n",
    "    from pykalman import KalmanFilter\n",
    "except ImportError as e:\n",
    "    !pip install pykalman\n",
    "    from pykalman import KalmanFilter\n",
    "\n",
    "import pandas as pd"
   ]
  },
  {
   "cell_type": "markdown",
   "metadata": {},
   "source": [
    "# Data Generation"
   ]
  },
  {
   "cell_type": "code",
   "execution_count": 2,
   "metadata": {},
   "outputs": [],
   "source": [
    "const_acceleration_x = 2\n",
    "const_acceleration_y = 1\n",
    "dt=0.0001\n",
    "t= np.arange(0, 1.01, dt)\n",
    "N = len(t)\n",
    "traj = (2*(t**5)- 1.5*(t**4) + 0.05*(t**3) - 3*(t**2)+3*t)\n",
    "\n",
    "t= (t)*100\n",
    "traj= (traj)*100"
   ]
  },
  {
   "cell_type": "code",
   "execution_count": 3,
   "metadata": {},
   "outputs": [],
   "source": [
    "def get_x_y_velocities(t,x, dt):\n",
    "  \n",
    "    x_velocities = np.zeros(len(t))\n",
    "    y_velocities = np.zeros(len(t))\n",
    "    np.random.seed(25)\n",
    "    sigma = 0.4\n",
    "    mu = 0 \n",
    "    \n",
    "    for i in range(1,len(t)) :\n",
    "        \n",
    "        noise = np.random.normal(loc = mu, scale = sigma)\n",
    "        \n",
    "        x_velocities[i] = ( t[i] - (t[i-1]+ (1/2)*const_acceleration_x*dt**2)) + noise\n",
    "        y_velocities[i] = ( x[i] - (x[i-1]+ (1/2)*const_acceleration_y*dt**2)) + noise\n",
    "    \n",
    "    return x_velocities, y_velocities"
   ]
  },
  {
   "cell_type": "code",
   "execution_count": 4,
   "metadata": {},
   "outputs": [],
   "source": [
    "x_vel, y_vel = get_x_y_velocities(t, traj, dt)"
   ]
  },
  {
   "cell_type": "code",
   "execution_count": 5,
   "metadata": {},
   "outputs": [
    {
     "data": {
      "text/html": [
       "<div>\n",
       "<style scoped>\n",
       "    .dataframe tbody tr th:only-of-type {\n",
       "        vertical-align: middle;\n",
       "    }\n",
       "\n",
       "    .dataframe tbody tr th {\n",
       "        vertical-align: top;\n",
       "    }\n",
       "\n",
       "    .dataframe thead th {\n",
       "        text-align: right;\n",
       "    }\n",
       "</style>\n",
       "<table border=\"1\" class=\"dataframe\">\n",
       "  <thead>\n",
       "    <tr style=\"text-align: right;\">\n",
       "      <th></th>\n",
       "      <th>x_pos</th>\n",
       "      <th>y_pos</th>\n",
       "      <th>x_vel</th>\n",
       "      <th>y_vel</th>\n",
       "    </tr>\n",
       "  </thead>\n",
       "  <tbody>\n",
       "    <tr>\n",
       "      <th>0</th>\n",
       "      <td>0.00</td>\n",
       "      <td>0.000000</td>\n",
       "      <td>0.000000</td>\n",
       "      <td>0.000000</td>\n",
       "    </tr>\n",
       "    <tr>\n",
       "      <th>1</th>\n",
       "      <td>0.01</td>\n",
       "      <td>0.029997</td>\n",
       "      <td>0.101309</td>\n",
       "      <td>0.121306</td>\n",
       "    </tr>\n",
       "    <tr>\n",
       "      <th>2</th>\n",
       "      <td>0.02</td>\n",
       "      <td>0.059988</td>\n",
       "      <td>0.420756</td>\n",
       "      <td>0.440747</td>\n",
       "    </tr>\n",
       "    <tr>\n",
       "      <th>3</th>\n",
       "      <td>0.03</td>\n",
       "      <td>0.089973</td>\n",
       "      <td>-0.325834</td>\n",
       "      <td>-0.305849</td>\n",
       "    </tr>\n",
       "    <tr>\n",
       "      <th>4</th>\n",
       "      <td>0.04</td>\n",
       "      <td>0.119952</td>\n",
       "      <td>-0.226473</td>\n",
       "      <td>-0.206494</td>\n",
       "    </tr>\n",
       "    <tr>\n",
       "      <th>...</th>\n",
       "      <td>...</td>\n",
       "      <td>...</td>\n",
       "      <td>...</td>\n",
       "      <td>...</td>\n",
       "    </tr>\n",
       "    <tr>\n",
       "      <th>1005</th>\n",
       "      <td>10.05</td>\n",
       "      <td>27.111749</td>\n",
       "      <td>-0.459423</td>\n",
       "      <td>-0.445486</td>\n",
       "    </tr>\n",
       "    <tr>\n",
       "      <th>1006</th>\n",
       "      <td>10.06</td>\n",
       "      <td>27.135680</td>\n",
       "      <td>0.008018</td>\n",
       "      <td>0.021949</td>\n",
       "    </tr>\n",
       "    <tr>\n",
       "      <th>1007</th>\n",
       "      <td>10.07</td>\n",
       "      <td>27.159605</td>\n",
       "      <td>0.068168</td>\n",
       "      <td>0.082093</td>\n",
       "    </tr>\n",
       "    <tr>\n",
       "      <th>1008</th>\n",
       "      <td>10.08</td>\n",
       "      <td>27.183524</td>\n",
       "      <td>0.870547</td>\n",
       "      <td>0.884466</td>\n",
       "    </tr>\n",
       "    <tr>\n",
       "      <th>1009</th>\n",
       "      <td>10.09</td>\n",
       "      <td>27.207438</td>\n",
       "      <td>-1.224415</td>\n",
       "      <td>-1.210502</td>\n",
       "    </tr>\n",
       "  </tbody>\n",
       "</table>\n",
       "<p>1010 rows × 4 columns</p>\n",
       "</div>"
      ],
      "text/plain": [
       "      x_pos      y_pos     x_vel     y_vel\n",
       "0      0.00   0.000000  0.000000  0.000000\n",
       "1      0.01   0.029997  0.101309  0.121306\n",
       "2      0.02   0.059988  0.420756  0.440747\n",
       "3      0.03   0.089973 -0.325834 -0.305849\n",
       "4      0.04   0.119952 -0.226473 -0.206494\n",
       "...     ...        ...       ...       ...\n",
       "1005  10.05  27.111749 -0.459423 -0.445486\n",
       "1006  10.06  27.135680  0.008018  0.021949\n",
       "1007  10.07  27.159605  0.068168  0.082093\n",
       "1008  10.08  27.183524  0.870547  0.884466\n",
       "1009  10.09  27.207438 -1.224415 -1.210502\n",
       "\n",
       "[1010 rows x 4 columns]"
      ]
     },
     "execution_count": 5,
     "metadata": {},
     "output_type": "execute_result"
    }
   ],
   "source": [
    "\n",
    "\n",
    "# the velocity is the first derivative\n",
    "#v_t = 3 - 6*t + 0.15*t**2 - 6*t**3 + 10*t*4\n",
    "\n",
    "#acc = -6 + 0.3 * t - 18 * t**2 + 40*t**3\n",
    "#mean_acc = abs(np.mean(acc))\n",
    "#print(mean_acc)\n",
    "#a_t =  [mean_acc for _ in range(len(t))]\n",
    "\n",
    "\n",
    "measurements = pd.DataFrame()\n",
    "measurements['x_pos']= t\n",
    "measurements['y_pos']= traj\n",
    "measurements['x_vel']= x_vel\n",
    "measurements['y_vel']= y_vel\n",
    "\n",
    "measurements.head(1010)\n"
   ]
  },
  {
   "cell_type": "markdown",
   "metadata": {},
   "source": [
    "We want to predict the position of a moving object based on the current information of the object. For simplicity we assume a constant acceleration model for our problem.\n",
    "The dynamics of a moving object in one dimension:\n",
    "\n",
    "$$ x_t = \\frac{1}{2}\\ddot{x}T^2 + v_{t-1} + x_{t-1} $$\n",
    "$$ v_t = \\ddot{x}T + v_{t-1}$$\n",
    "\n",
    "In we can extend the previous equations can be described by $x,y, \\dot{x}, \\dot{y}, \\ddot{x}, \\ddot{y} $\n",
    "\n",
    "$$\n",
    "X_{t} = \\begin{bmatrix} \n",
    "x_t\\\\ \n",
    "y_t\\\\\n",
    "\\dot{x}\\\\\n",
    "\\dot{y}\\\\\n",
    "\\ddot{x}\\\\\n",
    "\\ddot{y}\n",
    "\\end{bmatrix}\n",
    "$$"
   ]
  },
  {
   "cell_type": "code",
   "execution_count": 6,
   "metadata": {},
   "outputs": [],
   "source": [
    "def plot_measurements(measurements):\n",
    "    \n",
    "    x_moon, y_moon = measurements.x_pos[len(measurements.x_pos)-1],  measurements.y_pos[len(measurements.y_pos)-1]\n",
    "    x_earth, y_earth = measurements.x_pos[0], measurements.y_pos[0]\n",
    "    \n",
    "    plt.figure(figsize=(13,10))\n",
    "    plt.plot(measurements.x_pos, measurements.y_pos, ls = \"--\",c='black', label = \"Target Trajectoy\")\n",
    "    \n",
    "    plt.title(\"Target Trajectory\", fontsize=15)\n",
    "    earth = plt.Circle(( x_earth, y_earth), 3, color='blue', label = \"Earth\", hatch='O')\n",
    "    moon  = plt.Circle((x_moon, y_moon ), 1.5, color='grey', label = \"Moon\", hatch='O')\n",
    "   \n",
    "    moon = plt.gca().add_artist(moon)\n",
    "    earth = plt.gca().add_artist(earth)\n",
    "    \n",
    "    legend_earth = plt.Line2D([0], [0], ls='None', color=\"blue\", marker='o')\n",
    "    legend_moon = plt.Line2D([0], [0], ls='None', color=\"grey\", marker='o')\n",
    "    legend_trajectory = plt.Line2D([0], [0], ls='--', color=\"black\")\n",
    "    plt.legend([legend_earth, legend_moon, legend_trajectory],[\"Earth\",\"Moon\",\"Target_Trajectory\"])"
   ]
  },
  {
   "cell_type": "code",
   "execution_count": 7,
   "metadata": {},
   "outputs": [
    {
     "data": {
      "image/png": "[encoded data removed]",
      "text/plain": [
       "<Figure size 936x720 with 1 Axes>"
      ]
     },
     "metadata": {
      "needs_background": "light"
     },
     "output_type": "display_data"
    }
   ],
   "source": [
    "plot_measurements(measurements)"
   ]
  },
  {
   "cell_type": "markdown",
   "metadata": {},
   "source": [
    "### Adding Position Noise"
   ]
  },
  {
   "cell_type": "code",
   "execution_count": 8,
   "metadata": {},
   "outputs": [
    {
     "data": {
      "image/png": "[encoded data removed]",
      "text/plain": [
       "<Figure size 936x720 with 1 Axes>"
      ]
     },
     "metadata": {
      "needs_background": "light"
     },
     "output_type": "display_data"
    }
   ],
   "source": [
    "sigma = 0.3\n",
    "mu = 0\n",
    "\n",
    "np.random.seed(24)\n",
    "\n",
    "noise_t = np.random.normal(loc = mu, scale = sigma, size=N)\n",
    "\n",
    "traj_noisy = traj+noise_t\n",
    "\n",
    "measurements[\"y_pos\"] = traj_noisy\n",
    "\n",
    "plot_measurements(measurements)"
   ]
  },
  {
   "cell_type": "markdown",
   "metadata": {},
   "source": [
    "# Kalman Filtering"
   ]
  },
  {
   "cell_type": "markdown",
   "metadata": {},
   "source": [
    "In order to compute the transition matrix we have to consider:\n",
    "\n",
    "$$x_t = x_{t-1} + \\dot{x}_{t-1} + \\frac{1}{2}\\ddot{x}\\Delta t^2$$\n",
    "$$y_t = y_{t-1} + \\dot{y}_{t-1} + \\frac{1}{2}\\ddot{y}\\Delta t^2$$\n",
    "$$\\dot{x}_t = \\dot{x}_{t-1} + \\ddot{x}\\Delta t $$\n",
    "$$\\dot{y}_t = \\dot{y}_{t-1} + \\ddot{y}\\Delta t $$\n",
    "\n",
    "Assuming that the acceleration is constant, the transition matrix will be:"
   ]
  },
  {
   "cell_type": "code",
   "execution_count": 9,
   "metadata": {},
   "outputs": [
    {
     "name": "stdout",
     "output_type": "stream",
     "text": [
      "PHI:  (6, 6)\n",
      "Observation Covariance: \n",
      " [[0.09 0.  ]\n",
      " [0.   0.09]] \n",
      "\n",
      "\n",
      "Transition Covariance: \n",
      " [[2.5e-21 2.5e-21 5.0e-17 5.0e-17 5.0e-13 5.0e-13]\n",
      " [2.5e-21 2.5e-21 5.0e-17 5.0e-17 5.0e-13 5.0e-13]\n",
      " [5.0e-17 5.0e-17 1.0e-12 1.0e-12 1.0e-08 1.0e-08]\n",
      " [5.0e-17 5.0e-17 1.0e-12 1.0e-12 1.0e-08 1.0e-08]\n",
      " [5.0e-13 5.0e-13 1.0e-08 1.0e-08 1.0e-04 1.0e-04]\n",
      " [5.0e-13 5.0e-13 1.0e-08 1.0e-08 1.0e-04 1.0e-04]] \n",
      "\n",
      "\n"
     ]
    }
   ],
   "source": [
    "#Transition_Matrix matrix\n",
    "PHI =   np.array([[1, 0, dt, 0, (dt**2)/2, 0],\n",
    "                 [0, 1, 0, dt, 0, (dt**2)/2],\n",
    "                 [0, 0, 1,  0, dt,0,],\n",
    "                 [0, 0, 0,  1, 0, dt],\n",
    "                 [0, 0, 0,  0,  1 , 0],\n",
    "                 [0, 0, 0,  0,  0 , 1] ])\n",
    "\n",
    "print(\"PHI: \", PHI.shape)\n",
    "# Matrix Observation_Matrix\n",
    "#We are looking for the position of the spaceship\n",
    "H = np.array([[1,0,0,0,0,0],\n",
    "             [0,1,0,0,0,0]])\n",
    "\n",
    "\n",
    "#initial state\n",
    "s = np.array([measurements.y_pos[0], measurements.y_pos[0], \n",
    "              measurements.x_vel[0], measurements.y_pos[0], const_acceleration_x, const_acceleration_y])\n",
    "\n",
    "\n",
    "# Covariance\n",
    "R = np.eye(2)* sigma**2\n",
    "print(\"Observation Covariance: \\n\", R,\"\\n\\n\")\n",
    "\n",
    "init_covariance = np.eye(6) * sigma**2\n",
    "\n",
    "Dyn_Noise_Variance = (0.01)**2;\n",
    "G = np.array([ [(dt**2)/2],\n",
    "                [(dt**2)/2],\n",
    "                [    dt   ],\n",
    "                [    dt   ],\n",
    "                [    1    ],\n",
    "                [    1    ]])\n",
    "\n",
    "\n",
    "Q = G * G.T * Dyn_Noise_Variance\n",
    "print(\"Transition Covariance: \\n\", Q, \"\\n\\n\")"
   ]
  },
  {
   "cell_type": "code",
   "execution_count": 10,
   "metadata": {},
   "outputs": [],
   "source": [
    "kf = KalmanFilter(transition_matrices=PHI,\n",
    "                  observation_matrices=H,\n",
    "                  initial_state_mean=s,\n",
    "                  initial_state_covariance=init_covariance)"
   ]
  },
  {
   "cell_type": "code",
   "execution_count": 11,
   "metadata": {},
   "outputs": [],
   "source": [
    "kf = kf.em(measurements[[\"x_pos\",\"y_pos\"]], n_iter=5)\n",
    "(filtered_state_means, filtered_state_covariances) = kf.filter(measurements[[\"x_pos\",\"y_pos\"]])"
   ]
  },
  {
   "cell_type": "code",
   "execution_count": 12,
   "metadata": {},
   "outputs": [
    {
     "data": {
      "text/plain": [
       "<matplotlib.legend.Legend at 0x2e723d49148>"
      ]
     },
     "execution_count": 12,
     "metadata": {},
     "output_type": "execute_result"
    },
    {
     "data": {
      "text/plain": [
       "<Figure size 864x576 with 0 Axes>"
      ]
     },
     "metadata": {},
     "output_type": "display_data"
    },
    {
     "data": {
      "image/png": "[encoded data removed]",
      "text/plain": [
       "<Figure size 936x720 with 1 Axes>"
      ]
     },
     "metadata": {
      "needs_background": "light"
     },
     "output_type": "display_data"
    }
   ],
   "source": [
    "plt.figure(figsize=(12,8))\n",
    "plot_measurements(measurements)\n",
    "plt.plot(filtered_state_means[:,0],filtered_state_means[:,1],c='r',label='kalman output')\n",
    "plt.title(\"Kalman Output with Constant Acceleration\")\n",
    "\n",
    "\n",
    "legend_earth = plt.Line2D([0], [0], ls='None', color=\"blue\", marker='o')\n",
    "legend_moon = plt.Line2D([0], [0], ls='None', color=\"grey\", marker='o')\n",
    "legend_trajectory = plt.Line2D([0], [0], ls='--', color=\"black\")\n",
    "predicted_trajectory = plt.Line2D([0], [0], color=\"r\")\n",
    "plt.legend([legend_earth, legend_moon, legend_trajectory, predicted_trajectory],[\"Earth\",\"Moon\",\"Target_Trajectory\",\"Predicted Trajectory\"])"
   ]
  },
  {
   "cell_type": "markdown",
   "metadata": {},
   "source": [
    "## FILTERPY"
   ]
  },
  {
   "cell_type": "code",
   "execution_count": 18,
   "metadata": {},
   "outputs": [],
   "source": [
    "from filterpy.kalman import KalmanFilter\n",
    "from filterpy.common import Q_discrete_white_noise\n",
    "from scipy.linalg import block_diag\n",
    "from filterpy.stats import plot_covariance_ellipse\n",
    "from filterpy.common import Saver"
   ]
  },
  {
   "cell_type": "code",
   "execution_count": 23,
   "metadata": {},
   "outputs": [
    {
     "ename": "SyntaxError",
     "evalue": "invalid character in identifier (<ipython-input-23-146ffef47346>, line 6)",
     "output_type": "error",
     "traceback": [
      "\u001b[1;36m  File \u001b[1;32m\"<ipython-input-23-146ffef47346>\"\u001b[1;36m, line \u001b[1;32m6\u001b[0m\n\u001b[1;33m    tracker.F = PHI§\u001b[0m\n\u001b[1;37m                   ^\u001b[0m\n\u001b[1;31mSyntaxError\u001b[0m\u001b[1;31m:\u001b[0m invalid character in identifier\n"
     ]
    }
   ],
   "source": [
    "\"\"\" :dt = time step \"\"\"\n",
    "def Ship_tracker(dt):\n",
    "    tracker= KalmanFilter(dim_x = 6, dim_z=2)\n",
    "    tracker.x = s\n",
    "\n",
    "    tracker.F = PHI§\n",
    "    tracker.H = H   # Measurement function\n",
    "    tracker.P = np.eye(6)*500   # covariance matrix\n",
    "    tracker.R = R                     # state uncertainty\n",
    "    tracker.Q =  Q # process uncertainty\n",
    "    return tracker"
   ]
  },
  {
   "cell_type": "code",
   "execution_count": 24,
   "metadata": {},
   "outputs": [
    {
     "name": "stdout",
     "output_type": "stream",
     "text": [
      "(6, 6)\n",
      "(6, 6)\n",
      "(6, 6)\n",
      "KalmanFilter object\n",
      "dim_x = 6\n",
      "dim_z = 2\n",
      "dim_u = 0\n",
      "x = <Saver object at 0x2e72934dac8\n",
      "      Keys: alpha likelihood log_likelihood mahalanobis dim_x dim_z dim_u x P Q B F H R _alpha_sq M z K y S SI _I x_prior P_prior x_post P_post _log_likelihood _likelihood _mahalanobis inv>\n",
      "P = [[500.   0.   0.   0.   0.   0.]\n",
      "     [  0. 500.   0.   0.   0.   0.]\n",
      "     [  0.   0. 500.   0.   0.   0.]\n",
      "     [  0.   0.   0. 500.   0.   0.]\n",
      "     [  0.   0.   0.   0. 500.   0.]\n",
      "     [  0.   0.   0.   0.   0. 500.]]\n",
      "x_prior = [[0. 0. 0. 0. 0. 0.]].T\n",
      "P_prior = [[1. 0. 0. 0. 0. 0.]\n",
      "           [0. 1. 0. 0. 0. 0.]\n",
      "           [0. 0. 1. 0. 0. 0.]\n",
      "           [0. 0. 0. 1. 0. 0.]\n",
      "           [0. 0. 0. 0. 1. 0.]\n",
      "           [0. 0. 0. 0. 0. 1.]]\n",
      "x_post = [[0. 0. 0. 0. 0. 0.]].T\n",
      "P_post = [[1. 0. 0. 0. 0. 0.]\n",
      "          [0. 1. 0. 0. 0. 0.]\n",
      "          [0. 0. 1. 0. 0. 0.]\n",
      "          [0. 0. 0. 1. 0. 0.]\n",
      "          [0. 0. 0. 0. 1. 0.]\n",
      "          [0. 0. 0. 0. 0. 1.]]\n",
      "F = [[1.e+00 0.e+00 1.e-04 0.e+00 5.e-09 0.e+00]\n",
      "     [0.e+00 1.e+00 0.e+00 1.e-04 0.e+00 5.e-09]\n",
      "     [0.e+00 0.e+00 1.e+00 0.e+00 1.e-04 0.e+00]\n",
      "     [0.e+00 0.e+00 0.e+00 1.e+00 0.e+00 1.e-04]\n",
      "     [0.e+00 0.e+00 0.e+00 0.e+00 1.e+00 0.e+00]\n",
      "     [0.e+00 0.e+00 0.e+00 0.e+00 0.e+00 1.e+00]]\n",
      "Q = [[2.5e-21 2.5e-21 5.0e-17 5.0e-17 5.0e-13 5.0e-13]\n",
      "     [2.5e-21 2.5e-21 5.0e-17 5.0e-17 5.0e-13 5.0e-13]\n",
      "     [5.0e-17 5.0e-17 1.0e-12 1.0e-12 1.0e-08 1.0e-08]\n",
      "     [5.0e-17 5.0e-17 1.0e-12 1.0e-12 1.0e-08 1.0e-08]\n",
      "     [5.0e-13 5.0e-13 1.0e-08 1.0e-08 1.0e-04 1.0e-04]\n",
      "     [5.0e-13 5.0e-13 1.0e-08 1.0e-08 1.0e-04 1.0e-04]]\n",
      "R = [[0.09 0.  ]\n",
      "     [0.   0.09]]\n",
      "H = [[1 0 0 0 0 0]\n",
      "     [0 1 0 0 0 0]]\n",
      "K = [[0. 0.]\n",
      "     [0. 0.]\n",
      "     [0. 0.]\n",
      "     [0. 0.]\n",
      "     [0. 0.]\n",
      "     [0. 0.]]\n",
      "y = [[0. 0.]].T\n",
      "S = [[0. 0.]\n",
      "     [0. 0.]]\n",
      "SI = [[0. 0.]\n",
      "      [0. 0.]]\n",
      "M = [[0. 0.]\n",
      "     [0. 0.]]\n",
      "B = None\n",
      "z = [[None None]].T\n",
      "log-likelihood = -708.3964185322641\n",
      "likelihood = 2.2250738585072014e-308\n",
      "mahalanobis = 0.0\n",
      "alpha = 1.0\n",
      "inv = <function inv at 0x000002E711F24558>\n"
     ]
    }
   ],
   "source": [
    "tracker = Ship_tracker(dt)\n",
    "print(tracker)"
   ]
  },
  {
   "cell_type": "code",
   "execution_count": null,
   "metadata": {},
   "outputs": [],
   "source": [
    "zs = measurements[[\"x_pos\",\"y_pos\"]].to_numpy()\n",
    "\n",
    "def run(tracker, zs):\n",
    "    \n",
    "    xs, cov = [],[]\n",
    "    for z in zs:\n",
    "        \n",
    "        tracker.predict()\n",
    "        tracker.update(z)\n",
    "        \n",
    "        xs.append(tracker.x)\n",
    "        print(xs)\n",
    "        cov.append(tracker.P)\n",
    "\n",
    "run(tracker, zs)\n",
    "plot_measurements(measurements)"
   ]
  },
  {
   "cell_type": "code",
   "execution_count": null,
   "metadata": {},
   "outputs": [],
   "source": [
    "tracker.predict()\n",
    "\n",
    "plt.figure(figsize=(12,8))"
   ]
  },
  {
   "cell_type": "code",
   "execution_count": null,
   "metadata": {},
   "outputs": [],
   "source": []
  }
 ],
 "metadata": {
  "kernelspec": {
   "display_name": "Python 3",
   "language": "python",
   "name": "python3"
  },
  "language_info": {
   "codemirror_mode": {
    "name": "ipython",
    "version": 3
   },
   "file_extension": ".py",
   "mimetype": "text/x-python",
   "name": "python",
   "nbconvert_exporter": "python",
   "pygments_lexer": "ipython3",
   "version": "3.7.9"
  }
 },
 "nbformat": 4,
 "nbformat_minor": 4
}
